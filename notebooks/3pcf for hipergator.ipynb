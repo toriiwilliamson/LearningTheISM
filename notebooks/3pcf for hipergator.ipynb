{
 "cells": [
  {
   "cell_type": "markdown",
   "id": "2a52da82",
   "metadata": {},
   "source": [
    "simple quick 3pcf calculation using sarabande"
   ]
  },
  {
   "cell_type": "code",
   "execution_count": null,
   "id": "4cc2b8d0",
   "metadata": {},
   "outputs": [
    {
     "ename": "",
     "evalue": "",
     "output_type": "error",
     "traceback": [
      "\u001b[1;31mFailed to start the Kernel. \n",
      "\u001b[1;31mKernel Python 3.11.2 is not usable. Check the Jupyter output tab for more information. \n",
      "\u001b[1;31mView Jupyter <a href='command:jupyter.viewOutput'>log</a> for further details."
     ]
    }
   ],
   "source": [
    "import numpy as np\n",
    "import matplotlib.pyplot as plt\n",
    "import mpl_toolkits.axes_grid1 as axgrid\n",
    "from mpl_toolkits.axes_grid1 import make_axes_locatable\n",
    "import astropy.io.fits as pyf\n",
    "import os\n",
    "import sarabande"
   ]
  },
  {
   "cell_type": "code",
   "execution_count": null,
   "id": "e5137765",
   "metadata": {},
   "outputs": [
    {
     "ename": "",
     "evalue": "",
     "output_type": "error",
     "traceback": [
      "\u001b[1;31mFailed to start the Kernel. \n",
      "\u001b[1;31mKernel Python 3.11.2 is not usable. Check the Jupyter output tab for more information. \n",
      "\u001b[1;31mView Jupyter <a href='command:jupyter.viewOutput'>log</a> for further details."
     ]
    }
   ],
   "source": [
    "from google.colab import drive\n",
    "drive.mount('/content/drive')"
   ]
  },
  {
   "cell_type": "code",
   "execution_count": null,
   "id": "60dd9d56",
   "metadata": {},
   "outputs": [
    {
     "ename": "",
     "evalue": "",
     "output_type": "error",
     "traceback": [
      "\u001b[1;31mFailed to start the Kernel. \n",
      "\u001b[1;31mKernel Python 3.11.2 is not usable. Check the Jupyter output tab for more information. \n",
      "\u001b[1;31mView Jupyter <a href='command:jupyter.viewOutput'>log</a> for further details."
     ]
    }
   ],
   "source": [
    "save_name = 'demo'\n",
    "eps = 1e-15\n",
    "ell_max = 2\n",
    "nbins = 4\n",
    "#don't set it to zero, because spherical harmonics are ill-defined at the origin\n",
    "bin_min = 1-1e-5\n",
    "#radius from the origin.\n",
    "bin_max = 128+1e-5\n",
    "\n",
    "switch = {\n",
    "\t'LIN' : np.linspace(bin_min, bin_max, nbins+1),\n",
    "\t'INV' : 1./np.linspace(1./bin_min, 1./bin_max, nbins+1),\n",
    "\t'LOG' : np.exp(np.linspace(np.log(bin_min), np.log(bin_max), nbins+1))\n",
    "}\n",
    "bin_edges = switch['LIN']\n",
    "ld_one_d = 256\n",
    "boxsize = ld_one_d\n",
    "N_mesh = ld_one_d"
   ]
  },
  {
   "cell_type": "code",
   "execution_count": null,
   "id": "de316aeb",
   "metadata": {},
   "outputs": [
    {
     "ename": "",
     "evalue": "",
     "output_type": "error",
     "traceback": [
      "\u001b[1;31mFailed to start the Kernel. \n",
      "\u001b[1;31mKernel Python 3.11.2 is not usable. Check the Jupyter output tab for more information. \n",
      "\u001b[1;31mView Jupyter <a href='command:jupyter.viewOutput'>log</a> for further details."
     ]
    }
   ],
   "source": [
    "x = np.linspace(-ld_one_d/2, ld_one_d/2-1 , ld_one_d)\n",
    "xsq = x*x\n",
    "m_center = np.where(x==0)[0][0]\n",
    "X, Y, Z = np.meshgrid(x, x, x, indexing='ij')\n",
    "X = -X\n",
    "Y = -Y\n",
    "Z = -Z\n",
    "Xsq, Ysq, Zsq = np.meshgrid(xsq, xsq, xsq,indexing='ij')\n",
    "#PRECOMPUTE POWERS OF ARRAYS AND COMBINATIONS (e.g. x - iy).\n",
    "Rsq = Xsq+Ysq+Zsq\n",
    "R = np.sqrt(Rsq)\n",
    "del Rsq\n",
    "zero_ind = np.where(R==0)\n",
    "R[zero_ind] = eps\n",
    "X[zero_ind] = eps\n",
    "Y[zero_ind] = eps\n",
    "Z[zero_ind] = eps"
   ]
  },
  {
   "cell_type": "code",
   "execution_count": null,
   "id": "27b21964",
   "metadata": {},
   "outputs": [
    {
     "ename": "",
     "evalue": "",
     "output_type": "error",
     "traceback": [
      "\u001b[1;31mFailed to start the Kernel. \n",
      "\u001b[1;31mKernel Python 3.11.2 is not usable. Check the Jupyter output tab for more information. \n",
      "\u001b[1;31mView Jupyter <a href='command:jupyter.viewOutput'>log</a> for further details."
     ]
    }
   ],
   "source": [
    "boundsandnumber = np.zeros((2, nbins+1))\n",
    "boundsandnumber[0,:] = bin_edges\n",
    "for i in range(nbins):\n",
    "  boundsandnumber[1,i] = np.sum(np.logical_and(R >= bin_edges[i],\n",
    "                                               R < bin_edges[i+1]))\n",
    "np.save('bin_bounds_and_pixel_number_'+save_name+'.npy',boundsandnumber)"
   ]
  },
  {
   "cell_type": "code",
   "execution_count": null,
   "id": "ff874954",
   "metadata": {},
   "outputs": [
    {
     "ename": "",
     "evalue": "",
     "output_type": "error",
     "traceback": [
      "\u001b[1;31mFailed to start the Kernel. \n",
      "\u001b[1;31mKernel Python 3.11.2 is not usable. Check the Jupyter output tab for more information. \n",
      "\u001b[1;31mView Jupyter <a href='command:jupyter.viewOutput'>log</a> for further details."
     ]
    }
   ],
   "source": [
    "def ylm_save(ylm, ell, m):\n",
    "    np.save('ylm_'+save_name+'_'+str(ell)+'_'+str(m)+'.npy',ylm)#zs: to work on my laptop.\n",
    "    del ylm\n",
    "\n",
    "def ylm_transform_save(ylm_on_shell, ell, m, i):\n",
    "    FT = np.fft.fftn(np.fft.fftshift(ylm_on_shell))\n",
    "    np.save('YLMtilde_'+save_name+'_'+str(ell)+'_'+str(m)+'_bin_'+str(i)+'.npy',FT)\n",
    "    del FT"
   ]
  },
  {
   "cell_type": "code",
   "execution_count": null,
   "id": "2f85ca58",
   "metadata": {},
   "outputs": [
    {
     "ename": "",
     "evalue": "",
     "output_type": "error",
     "traceback": [
      "\u001b[1;31mFailed to start the Kernel. \n",
      "\u001b[1;31mKernel Python 3.11.2 is not usable. Check the Jupyter output tab for more information. \n",
      "\u001b[1;31mView Jupyter <a href='command:jupyter.viewOutput'>log</a> for further details."
     ]
    }
   ],
   "source": [
    "#COMPUTE YLMS SEQUENTIALLY AND SAVE.\n",
    "#ell, m = 0,0\n",
    "y00 =.5*(1./np.pi)**.5*np.ones((ld_one_d,ld_one_d,ld_one_d))\n",
    "ylm_save(y00, 0, 0)\n",
    "del y00\n",
    "\n",
    "#ell, m = 1, -1\n",
    "xdivr = X/R\n",
    "del X\n",
    "ydivr = Y/R#we'll need these as individuals later anyway.\n",
    "del Y\n",
    "xmiydivr = xdivr - 1j*ydivr\n",
    "y1m1 = .5*np.sqrt(3./(2.*np.pi))*xmiydivr\n",
    "ylm_save(y1m1, 1, 1)\n",
    "del y1m1\n",
    "\n",
    "#ell, m = 1, 0\n",
    "zdivr = Z/R\n",
    "del Z\n",
    "y10 = .5*np.sqrt(3./np.pi)*zdivr\n",
    "ylm_save(y10, 1, 0)\n",
    "del y10\n",
    "\n",
    "#ell, m = 2, -2\n",
    "xmiydivrsq = xmiydivr*xmiydivr\n",
    "y2m2 = .25*np.sqrt(15./(2.*np.pi))*xmiydivrsq\n",
    "ylm_save(y2m2, 2, 2)\n",
    "del y2m2\n",
    "\n",
    "#ell, m = 2, -1\n",
    "y2m1 = .5*np.sqrt(15./(2.*np.pi))*xmiydivr*zdivr\n",
    "ylm_save(y2m1, 2, 1)\n",
    "del y2m1\n",
    "\n",
    "#ell, m = 2, 0\n",
    "xdivrsq = xdivr*xdivr\n",
    "ydivrsq = ydivr*ydivr\n",
    "zdivrsq = zdivr*zdivr\n",
    "y20 = .25*np.sqrt(5./np.pi)*(2.*zdivrsq-xdivrsq-ydivrsq)\n",
    "ylm_save(y20, 2, 0)\n",
    "del y20\n",
    "\n",
    "#ell, m = 3, -3\n",
    "xmiydivrcu = xmiydivr*xmiydivrsq\n",
    "y3m3 = .125*np.sqrt(35./np.pi)*xmiydivrcu\n",
    "ylm_save(y3m3, 3, 3)\n",
    "del y3m3\n",
    "\n",
    "#ell, m = 3, -2\n",
    "y3m2 = .25*np.sqrt(105./(2.*np.pi))*xmiydivrsq*zdivr\n",
    "ylm_save(y3m2, 3, 2)\n",
    "del y3m2\n",
    "\n",
    "#ell, m = 3, -1\n",
    "y3m1 = .125*np.sqrt(21./np.pi)*(xmiydivr*(4.*zdivrsq-xdivrsq-ydivrsq))\n",
    "ylm_save(y3m1, 3, 1)\n",
    "del y3m1\n",
    "\n",
    "#ell, m = 3, 0\n",
    "y30 = .25*np.sqrt(7./np.pi)*(zdivr*(2.*zdivrsq-3.*xdivrsq-3.*ydivrsq))\n",
    "ylm_save(y30, 3, 0)\n",
    "del y30\n",
    "\n",
    "#ell, m = 4, -4\n",
    "xmiydivrft = xmiydivr*xmiydivrcu\n",
    "y4m4 = .1875*np.sqrt(35./(2.*np.pi))*xmiydivrft\n",
    "ylm_save(y4m4, 4, 4)\n",
    "del y4m4\n",
    "\n",
    "#ell, m = 4, -3\n",
    "y4m3 = .375*np.sqrt(35./np.pi)*xmiydivrcu*zdivr\n",
    "ylm_save(y4m3, 4, 3)\n",
    "del y4m3\n",
    "\n",
    "#ell, m = 4, -2\n",
    "y4m2 = .375*np.sqrt(5./(2.*np.pi))*xmiydivrsq*(7.*zdivrsq-1)\n",
    "ylm_save(y4m2, 4, 2)\n",
    "del y4m2\n",
    "\n",
    "#ell, m = 4, -1\n",
    "y4m1 = .375*np.sqrt(5./np.pi)*xmiydivr*zdivr*(7.*zdivrsq-3.)\n",
    "ylm_save(y4m1, 4, 1)\n",
    "del y4m1\n",
    "\n",
    "#ell, m = 4, 0\n",
    "zdivrft = zdivrsq*zdivrsq\n",
    "y40 = .1875*np.sqrt(1./np.pi)*(35.*zdivrft-30.*zdivrsq+3.)\n",
    "ylm_save(y40, 4, 0)\n",
    "del y40\n",
    "\n",
    "#ell, m = 5, -5\n",
    "xmiydivrfi = xmiydivr*xmiydivrft\n",
    "y5m5 = (3./32.)*np.sqrt(77./np.pi)*xmiydivrfi\n",
    "ylm_save(y5m5, 5, 5)\n",
    "del y5m5\n",
    "\n",
    "#ell, m = 5, -4\n",
    "y5m4 = (3./16.)*np.sqrt(385./(2.*np.pi))*xmiydivrft*zdivr\n",
    "ylm_save(y5m4, 5, 4)\n",
    "del y5m4\n",
    "\n",
    "#ell, m = 5, -3\n",
    "y5m3 = (1./32.)*np.sqrt(385./np.pi)*xmiydivrcu*(9.*zdivrsq-1.)\n",
    "ylm_save(y5m3, 5, 3)\n",
    "del y5m3\n",
    "\n",
    "#ell, m = 5, -2\n",
    "zdivrcu = zdivr*zdivrsq\n",
    "y5m2 = (1./8.)*np.sqrt(1155./(2.*np.pi))*xmiydivrsq*(3.*zdivrcu-zdivr)\n",
    "ylm_save(y5m2, 5, 2)\n",
    "del y5m2\n",
    "\n",
    "#ell, m = 5, -1\n",
    "y5m1 = (1./16.)*np.sqrt(165./(2.*np.pi))*xmiydivr*(21.*zdivrft-14.*zdivrsq+1.)\n",
    "ylm_save(y5m1, 5, 1)\n",
    "del y5m1\n",
    "\n",
    "#ell, m = 5, 0\n",
    "zdivrfi = zdivr*zdivrft\n",
    "y50 = (1./16.)*np.sqrt(11./np.pi)*(63.*zdivrfi-70.*zdivrcu+15.*zdivr)\n",
    "ylm_save(y50, 5, 0)\n",
    "del y50"
   ]
  },
  {
   "cell_type": "code",
   "execution_count": null,
   "id": "e703b14e",
   "metadata": {},
   "outputs": [
    {
     "ename": "",
     "evalue": "",
     "output_type": "error",
     "traceback": [
      "\u001b[1;31mFailed to start the Kernel. \n",
      "\u001b[1;31mKernel Python 3.11.2 is not usable. Check the Jupyter output tab for more information. \n",
      "\u001b[1;31mView Jupyter <a href='command:jupyter.viewOutput'>log</a> for further details."
     ]
    }
   ],
   "source": [
    "for ell in range(0, ell_max+1):\n",
    "  for m in range(0, ell+1):\n",
    "    print(\"ell, m = \", ell, m)\n",
    "    #do one ylm at a time to save lots of accessing memory\n",
    "    ylm = np.load('ylm_'+save_name+'_'+str(ell)+'_'+str(m)+'.npy') \n",
    "    for i in range(nbins):\n",
    "      print(\"bin i = \", i)\n",
    "      #where is radius in bin?\n",
    "      rib = np.where((R >= bin_edges[i]) & (R < bin_edges[i+1]))\n",
    "      ylm_on_shell = np.zeros((ld_one_d, ld_one_d, ld_one_d)) + 0j\n",
    "      ylm_on_shell[rib] = ylm[rib]\n",
    "      del rib\n",
    "      ylm_transform_save(ylm_on_shell, ell, m, i)\n",
    "      del ylm_on_shell\n",
    "    if 'ylm' in globals():\n",
    "      del ylm\n",
    "    file_to_rm = 'ylm_'+save_name+'_'+str(ell)+'_'+str(m)+'.npy'\n",
    "    call([\"rm\", file_to_rm])"
   ]
  },
  {
   "cell_type": "code",
   "execution_count": null,
   "id": "3e1ecc39",
   "metadata": {},
   "outputs": [
    {
     "ename": "",
     "evalue": "",
     "output_type": "error",
     "traceback": [
      "\u001b[1;31mFailed to start the Kernel. \n",
      "\u001b[1;31mKernel Python 3.11.2 is not usable. Check the Jupyter output tab for more information. \n",
      "\u001b[1;31mView Jupyter <a href='command:jupyter.viewOutput'>log</a> for further details."
     ]
    }
   ],
   "source": [
    "save_name = 'dens_t800'\n",
    "kernel_name = 'demo'\n",
    "file = save_name+'.fits.gz'\n",
    "\n",
    "bin_bounds = np.load('bin_bounds_and_pixel_number_'+kernel_name+'.npy')\n",
    "nbins = bin_bounds.shape[1] - 1"
   ]
  },
  {
   "cell_type": "code",
   "execution_count": null,
   "id": "3fb55404",
   "metadata": {},
   "outputs": [
    {
     "ename": "",
     "evalue": "",
     "output_type": "error",
     "traceback": [
      "\u001b[1;31mFailed to start the Kernel. \n",
      "\u001b[1;31mKernel Python 3.11.2 is not usable. Check the Jupyter output tab for more information. \n",
      "\u001b[1;31mView Jupyter <a href='command:jupyter.viewOutput'>log</a> for further details."
     ]
    }
   ],
   "source": [
    "!wget https://users.flatironinstitute.org/~bburkhart/data/CATS/MHD/256/b.1p.32/t_800/dens_t800.fits.gz\n",
    "!ls"
   ]
  },
  {
   "cell_type": "code",
   "execution_count": null,
   "id": "dec5ae61",
   "metadata": {},
   "outputs": [
    {
     "ename": "",
     "evalue": "",
     "output_type": "error",
     "traceback": [
      "\u001b[1;31mFailed to start the Kernel. \n",
      "\u001b[1;31mKernel Python 3.11.2 is not usable. Check the Jupyter output tab for more information. \n",
      "\u001b[1;31mView Jupyter <a href='command:jupyter.viewOutput'>log</a> for further details."
     ]
    }
   ],
   "source": [
    "hdulist = pyf.open(file)\n",
    "data = hdulist[0].data.astype(np.float64) #pull data\n",
    "data -= np.mean(data) #subtract out the mean\n",
    "\n",
    "#FT OF SHIFTED DATA\n",
    "normalized = False # do log normalization\n",
    "if normalized:\n",
    "  data = (np.log(data) - np.mean(np.log(data)))/np.std(np.log(data))\n",
    "ft_data = np.fft.fftn(data)"
   ]
  },
  {
   "cell_type": "code",
   "execution_count": null,
   "id": "ce69cc4b",
   "metadata": {},
   "outputs": [
    {
     "ename": "",
     "evalue": "",
     "output_type": "error",
     "traceback": [
      "\u001b[1;31mFailed to start the Kernel. \n",
      "\u001b[1;31mKernel Python 3.11.2 is not usable. Check the Jupyter output tab for more information. \n",
      "\u001b[1;31mView Jupyter <a href='command:jupyter.viewOutput'>log</a> for further details."
     ]
    }
   ],
   "source": [
    "#CONVOLUTION OF DATA AND SPH_KERNEL AT A GIVEN BIN\n",
    "for l in range(0, ell_max+1, 1):\n",
    "  for m in range(0,l+1, 1):\n",
    "    for bin in range(0, nbins, 1):\n",
    "      print(\"l, m, bin =\", l, m, bin)\n",
    "      #load ft of bsph_kernels\n",
    "      bsph_kernel = np.load('YLMtilde_'+kernel_name+'_'+str(l)+'_'+str(m)+\n",
    "                            '_bin_'+str(bin)+'.npy')\n",
    "      conv = np.fft.ifftn(ft_data*bsph_kernel)\n",
    "      del bsph_kernel\n",
    "      np.save(save_name+'conv_data_kernel_'+kernel_name+'_'+str(l)+'_'+str(m)+\n",
    "              '_bin_'+str(bin)+'.npy', conv)\n",
    "      del conv"
   ]
  },
  {
   "cell_type": "code",
   "execution_count": null,
   "id": "6afb0718",
   "metadata": {},
   "outputs": [
    {
     "ename": "",
     "evalue": "",
     "output_type": "error",
     "traceback": [
      "\u001b[1;31mFailed to start the Kernel. \n",
      "\u001b[1;31mKernel Python 3.11.2 is not usable. Check the Jupyter output tab for more information. \n",
      "\u001b[1;31mView Jupyter <a href='command:jupyter.viewOutput'>log</a> for further details."
     ]
    }
   ],
   "source": [
    "import time"
   ]
  },
  {
   "cell_type": "code",
   "execution_count": null,
   "id": "3b72d594",
   "metadata": {},
   "outputs": [
    {
     "ename": "",
     "evalue": "",
     "output_type": "error",
     "traceback": [
      "\u001b[1;31mFailed to start the Kernel. \n",
      "\u001b[1;31mKernel Python 3.11.2 is not usable. Check the Jupyter output tab for more information. \n",
      "\u001b[1;31mView Jupyter <a href='command:jupyter.viewOutput'>log</a> for further details."
     ]
    }
   ],
   "source": [
    "#load alms (results of convolution at fixed ell and for all m, to combine).\n",
    "zeta = np.zeros((ell_max + 1, nbins, nbins)) + 0j\n",
    "\n",
    "start = time.time()\n",
    "for l in range(0, ell_max+1, 1):\n",
    "    for bin1 in range(0, nbins, 1):\n",
    "        for bin2 in range(0, bin1, 1):\n",
    "            for m in range(0,l+1, 1):\n",
    "                #load b1 and b2 at this m\n",
    "\n",
    "                ylm_b1 = np.load(save_name +'conv_data_kernel_'+kernel_name+'_'+str(l)+\n",
    "                                  '_'+str(m)+'_bin_'+str(bin1)+'.npy').astype(np.complex128)\n",
    "                ylm_b2 = np.load(save_name+'conv_data_kernel_'+kernel_name+'_'+str(l)+\n",
    "                                  '_'+str(m)+'_bin_'+str(bin2)+'.npy').astype(np.complex128)\n",
    "                #form half of sum at that m.\n",
    "                ylm_b1 *= ylm_b2.conjugate()\n",
    "                del ylm_b2\n",
    "\n",
    "                #average spatially now.\n",
    "                ylm_avg = np.sum(data*ylm_b1)\n",
    "                del ylm_b1\n",
    "                # add in negative m: so basically we are computing m's in sum term by\n",
    "                # term but with matching between + and - m.\n",
    "                if m > 0:\n",
    "                    ylm_avg += ylm_avg.conjugate() \n",
    "                zeta[l, bin1, bin2] += ylm_avg #now accumulate so we get sum over m.\n",
    "\n",
    "#----------------\n",
    "# Symmetrization\n",
    "#----------------\n",
    "for l in range(0, ell_max+1, 1):\n",
    "    zeta[l, :, :] *= ((-1)**l / np.sqrt(2 * l + 1))\n",
    "    for bin1 in range(0, nbins, 1):\n",
    "        for bin2 in range(bin1, nbins, 1): \n",
    "            zeta[l, bin1, bin2] = zeta[l, bin2, bin1]\n",
    "\n",
    "stop = time.time()\n",
    "\n",
    "print(f\"Full 3PCF Calculation Took: {stop - start:0.2f} seconds\")"
   ]
  }
 ],
 "metadata": {
  "kernelspec": {
   "display_name": "Python 3",
   "language": "python",
   "name": "python3"
  },
  "language_info": {
   "codemirror_mode": {
    "name": "ipython",
    "version": 3
   },
   "file_extension": ".py",
   "mimetype": "text/x-python",
   "name": "python",
   "nbconvert_exporter": "python",
   "pygments_lexer": "ipython3",
   "version": "3.11.2"
  },
  "vscode": {
   "interpreter": {
    "hash": "aee8b7b246df8f9039afb4144a1f6fd8d2ca17a180786b69acc140d282b71a49"
   }
  }
 },
 "nbformat": 4,
 "nbformat_minor": 5
}
