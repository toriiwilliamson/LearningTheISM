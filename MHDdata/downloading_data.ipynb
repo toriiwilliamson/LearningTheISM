{
 "cells": [
  {
   "cell_type": "code",
   "execution_count": 2,
   "id": "9e14fb09",
   "metadata": {},
   "outputs": [
    {
     "name": "stderr",
     "output_type": "stream",
     "text": [
      "100%|██████████████████████████████████████████| 9/9 [00:00<00:00, 16036.00it/s]"
     ]
    },
    {
     "name": "stdout",
     "output_type": "stream",
     "text": [
      "wget https://users.flatironinstitute.org/~bburkhart/data/CATS/MHD/256/b1p1/t_500/dens_t500.fits.gz\n",
      "wget https://users.flatironinstitute.org/~bburkhart/data/CATS/MHD/256/b1p1/t_550/dens_t550.fits.gz\n",
      "wget https://users.flatironinstitute.org/~bburkhart/data/CATS/MHD/256/b1p1/t_600/dens_t600.fits.gz\n",
      "wget https://users.flatironinstitute.org/~bburkhart/data/CATS/MHD/256/b1p1/t_650/dens_t650.fits.gz\n",
      "wget https://users.flatironinstitute.org/~bburkhart/data/CATS/MHD/256/b1p1/t_700/dens_t700.fits.gz\n",
      "wget https://users.flatironinstitute.org/~bburkhart/data/CATS/MHD/256/b1p1/t_750/dens_t750.fits.gz\n",
      "wget https://users.flatironinstitute.org/~bburkhart/data/CATS/MHD/256/b1p1/t_800/dens_t800.fits.gz\n",
      "wget https://users.flatironinstitute.org/~bburkhart/data/CATS/MHD/256/b1p1/t_850/dens_t850.fits.gz\n",
      "wget https://users.flatironinstitute.org/~bburkhart/data/CATS/MHD/256/b1p1/t_900/dens_t900.fits.gz\n"
     ]
    },
    {
     "name": "stderr",
     "output_type": "stream",
     "text": [
      "\n"
     ]
    }
   ],
   "source": [
    "import os\n",
    "from tqdm import tqdm\n",
    "\n",
    "for i in tqdm(range(500, 901, 50)):\n",
    "#     print(f'wget https://users.flatironinstitute.org/~bburkhart/data/CATS/MHD/256/b1p1/t_{i}/dens_t{i}.fits.gz')\n",
    "#     os.system(f'wget https://users.flatironinstitute.org/~bburkhart/data/CATS/MHD/256/b1p1/t_{i}/dens_t{i}.fits.gz')\n",
    "    \n",
    "# os.system(f'mv dens_*.fits.gz Ms_0p7__Ma_0p7')"
   ]
  },
  {
   "cell_type": "code",
   "execution_count": null,
   "id": "07bd5528",
   "metadata": {},
   "outputs": [],
   "source": []
  }
 ],
 "metadata": {
  "kernelspec": {
   "display_name": "Python 3 (ipykernel)",
   "language": "python",
   "name": "python3"
  },
  "language_info": {
   "codemirror_mode": {
    "name": "ipython",
    "version": 3
   },
   "file_extension": ".py",
   "mimetype": "text/x-python",
   "name": "python",
   "nbconvert_exporter": "python",
   "pygments_lexer": "ipython3",
   "version": "3.9.13"
  }
 },
 "nbformat": 4,
 "nbformat_minor": 5
}
